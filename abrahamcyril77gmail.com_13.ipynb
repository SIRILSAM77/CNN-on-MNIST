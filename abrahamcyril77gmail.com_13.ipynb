{
  "nbformat": 4,
  "nbformat_minor": 0,
  "metadata": {
    "colab": {
      "name": "CNN_MNIST.ipynb",
      "provenance": [],
      "collapsed_sections": []
    },
    "kernelspec": {
      "name": "python3",
      "display_name": "Python 3"
    }
  },
  "cells": [
    {
      "cell_type": "code",
      "metadata": {
        "id": "H9EU0e8yzFOm",
        "colab_type": "code",
        "outputId": "1b57af6c-c12c-4a4d-9611-5f0c8a7fa527",
        "colab": {
          "base_uri": "https://localhost:8080/",
          "height": 118
        }
      },
      "source": [
        "# Credits: https://github.com/keras-team/keras/blob/master/examples/mnist_cnn.py\n",
        "\n",
        "\n",
        "from __future__ import print_function\n",
        "import keras\n",
        "from keras.datasets import mnist\n",
        "from keras.models import Sequential\n",
        "from keras.layers import Dense, Dropout, Flatten\n",
        "from keras.layers import Conv2D, MaxPooling2D\n",
        "from keras import backend as K\n",
        "%matplotlib notebook\n",
        "import matplotlib.pyplot as plt\n",
        "import numpy as np\n",
        "import time\n",
        "# https://gist.github.com/greydanus/f6eee59eaf1d90fcb3b534a25362cea4\n",
        "# https://stackoverflow.com/a/14434334\n",
        "# this function is used to update the plots for each epoch and error\n",
        "%matplotlib inline\n",
        "def plt_dynamic(x, vy, ty, ax, colors=['b']):\n",
        "    ax.plot(x, vy, 'b', label=\"Validation Loss\")\n",
        "    ax.plot(x, ty, 'r', label=\"Train Loss\")\n",
        "    plt.legend()\n",
        "    plt.grid()\n",
        "    fig.canvas.draw()\n",
        "\n",
        "batch_size = 128\n",
        "num_classes = 10\n",
        "epochs = 12\n",
        "\n",
        "# input image dimensions\n",
        "img_rows, img_cols = 28, 28\n",
        "\n",
        "# the data, split between train and test sets\n",
        "(x_train, y_train), (x_test, y_test) = mnist.load_data()\n",
        "\n",
        "if K.image_data_format() == 'channels_first':\n",
        "    x_train = x_train.reshape(x_train.shape[0], 1, img_rows, img_cols)\n",
        "    x_test = x_test.reshape(x_test.shape[0], 1, img_rows, img_cols)\n",
        "    input_shape = (1, img_rows, img_cols)\n",
        "else:\n",
        "    x_train = x_train.reshape(x_train.shape[0], img_rows, img_cols, 1)\n",
        "    x_test = x_test.reshape(x_test.shape[0], img_rows, img_cols, 1)\n",
        "    input_shape = (img_rows, img_cols, 1)\n",
        "\n",
        "x_train = x_train.astype('float32')\n",
        "x_test = x_test.astype('float32')\n",
        "x_train /= 255\n",
        "x_test /= 255\n",
        "print('x_train shape:', x_train.shape)\n",
        "print(x_train.shape[0], 'train samples')\n",
        "print(x_test.shape[0], 'test samples')\n",
        "\n",
        "# convert class vectors to binary class matrices\n",
        "y_train = keras.utils.to_categorical(y_train, num_classes)\n",
        "y_test = keras.utils.to_categorical(y_test, num_classes)\n",
        "\n"
      ],
      "execution_count": 1,
      "outputs": [
        {
          "output_type": "stream",
          "text": [
            "Using TensorFlow backend.\n"
          ],
          "name": "stderr"
        },
        {
          "output_type": "stream",
          "text": [
            "Downloading data from https://s3.amazonaws.com/img-datasets/mnist.npz\n",
            "11493376/11490434 [==============================] - 0s 0us/step\n",
            "x_train shape: (60000, 28, 28, 1)\n",
            "60000 train samples\n",
            "10000 test samples\n"
          ],
          "name": "stdout"
        }
      ]
    },
    {
      "cell_type": "markdown",
      "metadata": {
        "id": "n7QhEmttG2ka",
        "colab_type": "text"
      },
      "source": [
        "<h1> 3x3 kernel and 3 layered CNN using Adadelta"
      ]
    },
    {
      "cell_type": "code",
      "metadata": {
        "id": "VUmKoW01Gz0X",
        "colab_type": "code",
        "colab": {
          "base_uri": "https://localhost:8080/",
          "height": 1000
        },
        "outputId": "3706f561-499b-4449-894f-0c81d99f40c3"
      },
      "source": [
        "model1 = Sequential()\n",
        "model1.add(Conv2D(16, kernel_size=(3, 3),activation='relu',input_shape=input_shape))   \n",
        "model1.add(MaxPooling2D(pool_size=(2, 2)))\n",
        "model1.add(Dropout(0.25))\n",
        "model1.add(Conv2D(32, kernel_size=(3, 3),activation='relu',input_shape=input_shape))   \n",
        "model1.add(MaxPooling2D(pool_size=(2, 2)))\n",
        "model1.add(Dropout(0.25))\n",
        "model1.add(Conv2D(64,kernel_size=(3, 3), activation='relu'))\n",
        "model1.add(MaxPooling2D(pool_size=(2, 2)))\n",
        "model1.add(Dropout(0.25))\n",
        "model1.add(Flatten())\n",
        "model1.add(Dense(128, activation='relu'))\n",
        "model1.add(Dropout(0.25))\n",
        "model1.add(Dense(num_classes, activation='softmax'))\n",
        "model1.compile(loss=keras.losses.categorical_crossentropy,optimizer=keras.optimizers.Adadelta(),metrics=['accuracy'])\n",
        "history=model1.fit(x_train, y_train,batch_size=batch_size,epochs=epochs, verbose=1, validation_data=(x_test, y_test))\n",
        "score1= model1.evaluate(x_test,y_test, verbose=0)\n",
        "print('Test loss:', score1[0])\n",
        "print('Test accuracy:',score1[1])"
      ],
      "execution_count": 6,
      "outputs": [
        {
          "output_type": "stream",
          "text": [
            "Train on 60000 samples, validate on 10000 samples\n",
            "Epoch 1/12\n",
            "60000/60000 [==============================] - 35s 583us/step - loss: 0.7067 - acc: 0.7671 - val_loss: 0.1405 - val_acc: 0.9541\n",
            "Epoch 2/12\n",
            "60000/60000 [==============================] - 34s 570us/step - loss: 0.2618 - acc: 0.9209 - val_loss: 0.1019 - val_acc: 0.9679\n",
            "Epoch 3/12\n",
            "60000/60000 [==============================] - 34s 572us/step - loss: 0.2060 - acc: 0.9372 - val_loss: 0.0843 - val_acc: 0.9727\n",
            "Epoch 4/12\n",
            "60000/60000 [==============================] - 35s 577us/step - loss: 0.1785 - acc: 0.9455 - val_loss: 0.0719 - val_acc: 0.9771\n",
            "Epoch 5/12\n",
            "60000/60000 [==============================] - 34s 567us/step - loss: 0.1591 - acc: 0.9510 - val_loss: 0.0655 - val_acc: 0.9790\n",
            "Epoch 6/12\n",
            "60000/60000 [==============================] - 34s 561us/step - loss: 0.1495 - acc: 0.9542 - val_loss: 0.0615 - val_acc: 0.9800\n",
            "Epoch 7/12\n",
            "60000/60000 [==============================] - 34s 573us/step - loss: 0.1343 - acc: 0.9596 - val_loss: 0.0590 - val_acc: 0.9815\n",
            "Epoch 8/12\n",
            "60000/60000 [==============================] - 34s 570us/step - loss: 0.1310 - acc: 0.9607 - val_loss: 0.0548 - val_acc: 0.9840\n",
            "Epoch 9/12\n",
            "60000/60000 [==============================] - 34s 560us/step - loss: 0.1243 - acc: 0.9633 - val_loss: 0.0532 - val_acc: 0.9839\n",
            "Epoch 10/12\n",
            "60000/60000 [==============================] - 34s 560us/step - loss: 0.1168 - acc: 0.9653 - val_loss: 0.0524 - val_acc: 0.9844\n",
            "Epoch 11/12\n",
            "60000/60000 [==============================] - 34s 562us/step - loss: 0.1132 - acc: 0.9656 - val_loss: 0.0501 - val_acc: 0.9852\n",
            "Epoch 12/12\n",
            "60000/60000 [==============================] - 34s 561us/step - loss: 0.1087 - acc: 0.9667 - val_loss: 0.0492 - val_acc: 0.9850\n",
            "Test loss: 0.04917911008154042\n",
            "Test accuracy: 0.985\n"
          ],
          "name": "stdout"
        }
      ]
    },
    {
      "cell_type": "code",
      "metadata": {
        "id": "sPz5dj8KMxZs",
        "colab_type": "code",
        "colab": {
          "base_uri": "https://localhost:8080/",
          "height": 283
        },
        "outputId": "28cb55b8-9ef2-42d2-fd4c-1774ba7d0e0c"
      },
      "source": [
        "%matplotlib inline\n",
        "fig,ax = plt.subplots(1,1)\n",
        "ax.set_xlabel('epoch') ; ax.set_ylabel('Categorical Crossentropy Loss')\n",
        "\n",
        "# list of epoch numbers\n",
        "x = list(range(1,epochs+1))\n",
        "\n",
        "# print(history.history.keys())\n",
        "# dict_keys(['val_loss', 'val_acc', 'loss', 'acc'])\n",
        "# history = model_drop.fit(X_train, Y_train, batch_size=batch_size, epochs=nb_epoch, verbose=1, validation_data=(X_test, Y_test))\n",
        "\n",
        "# we will get val_loss and val_acc only when you pass the paramter validation_data\n",
        "# val_loss : validation loss\n",
        "# val_acc : validation accuracy\n",
        "# loss : training loss\n",
        "# acc : train accuracy\n",
        "# for each key in histrory.histrory we will have a list of length equal to number of epochs\n",
        "vy = history.history['val_loss']\n",
        "ty = history.history['loss']\n",
        "plt_dynamic(x, vy, ty, ax)"
      ],
      "execution_count": 9,
      "outputs": [
        {
          "output_type": "display_data",
          "data": {
            "image/png": "[encoded data removed]",
            "text/plain": [
              "<Figure size 432x288 with 1 Axes>"
            ]
          },
          "metadata": {
            "tags": []
          }
        }
      ]
    },
    {
      "cell_type": "markdown",
      "metadata": {
        "id": "t-uwZD1Ud86F",
        "colab_type": "text"
      },
      "source": [
        "<h1>5 Layer CNN with 5x5 kernel"
      ]
    },
    {
      "cell_type": "code",
      "metadata": {
        "id": "fMyI39k4KhKX",
        "colab_type": "code",
        "colab": {
          "base_uri": "https://localhost:8080/",
          "height": 1000
        },
        "outputId": "365ec779-374e-4133-b324-6cd0c7e40e53"
      },
      "source": [
        "from keras.layers import Dense, Dropout, Flatten, Activation, BatchNormalization\n",
        "model2 = Sequential()\n",
        "model2.add(Conv2D(32, kernel_size=5,input_shape=(28, 28, 1), activation = 'relu',padding='same'))\n",
        "model2.add(MaxPooling2D(2,2))\n",
        "model2.add(BatchNormalization())\n",
        "model2.add(Dropout(0.4))\n",
        "model2.add(Conv2D(32, kernel_size=5, activation = 'relu',padding='same'))\n",
        "model2.add(MaxPooling2D(2,2))\n",
        "model2.add(BatchNormalization())\n",
        "model2.add(Dropout(0.4))\n",
        "model2.add(Conv2D(64, kernel_size=5,activation = 'relu',padding='same'))\n",
        "model2.add(MaxPooling2D(2,2))\n",
        "model2.add(BatchNormalization())\n",
        "model2.add(Dropout(0.4))\n",
        "model2.add(Conv2D(64, kernel_size=5,activation = 'relu',padding='same'))\n",
        "model2.add(MaxPooling2D(2,2))\n",
        "model2.add(BatchNormalization())\n",
        "model2.add(Dropout(0.4))\n",
        "model2.add(Conv2D(128, kernel_size=3, activation = 'relu',padding='same'))\n",
        "model2.add(BatchNormalization())\n",
        "model2.add(Flatten())\n",
        "model2.add(Dense(256, activation = \"relu\"))\n",
        "model2.add(Dropout(0.4))\n",
        "model2.add(Dense(128,activation = \"relu\"))\n",
        "model2.add(Dropout(0.4))\n",
        "model2.add(Dense(10, activation = \"softmax\"))\n",
        "model2.compile(loss=keras.losses.categorical_crossentropy,optimizer=keras.optimizers.Adadelta(),metrics=['accuracy'])\n",
        "history2=model2.fit(x_train, y_train,batch_size=batch_size,epochs=epochs, verbose=1, validation_data=(x_test, y_test))\n",
        "score2 = model2.evaluate(x_test,y_test,verbose=0)\n",
        "print('Test loss:', score2[0])\n",
        "print('Test accuracy:', score2[1])"
      ],
      "execution_count": 23,
      "outputs": [
        {
          "output_type": "stream",
          "text": [
            "WARNING:tensorflow:From /usr/local/lib/python3.6/dist-packages/keras/backend/tensorflow_backend.py:2041: The name tf.nn.fused_batch_norm is deprecated. Please use tf.compat.v1.nn.fused_batch_norm instead.\n",
            "\n",
            "Train on 60000 samples, validate on 10000 samples\n",
            "Epoch 1/12\n",
            "60000/60000 [==============================] - 177s 3ms/step - loss: 0.5580 - acc: 0.8207 - val_loss: 0.0894 - val_acc: 0.9754\n",
            "Epoch 2/12\n",
            "60000/60000 [==============================] - 176s 3ms/step - loss: 0.1541 - acc: 0.9588 - val_loss: 0.0786 - val_acc: 0.9800\n",
            "Epoch 3/12\n",
            "60000/60000 [==============================] - 178s 3ms/step - loss: 0.1158 - acc: 0.9693 - val_loss: 0.0411 - val_acc: 0.9887\n",
            "Epoch 4/12\n",
            "60000/60000 [==============================] - 182s 3ms/step - loss: 0.0995 - acc: 0.9733 - val_loss: 0.0337 - val_acc: 0.9912\n",
            "Epoch 5/12\n",
            "60000/60000 [==============================] - 181s 3ms/step - loss: 0.0879 - acc: 0.9775 - val_loss: 0.0318 - val_acc: 0.9915\n",
            "Epoch 6/12\n",
            "60000/60000 [==============================] - 181s 3ms/step - loss: 0.0775 - acc: 0.9795 - val_loss: 0.0293 - val_acc: 0.9923\n",
            "Epoch 7/12\n",
            "60000/60000 [==============================] - 181s 3ms/step - loss: 0.0770 - acc: 0.9798 - val_loss: 0.0266 - val_acc: 0.9924\n",
            "Epoch 8/12\n",
            "60000/60000 [==============================] - 178s 3ms/step - loss: 0.0710 - acc: 0.9814 - val_loss: 0.0254 - val_acc: 0.9934\n",
            "Epoch 9/12\n",
            "60000/60000 [==============================] - 176s 3ms/step - loss: 0.0668 - acc: 0.9830 - val_loss: 0.0236 - val_acc: 0.9936\n",
            "Epoch 10/12\n",
            "60000/60000 [==============================] - 177s 3ms/step - loss: 0.0630 - acc: 0.9840 - val_loss: 0.0319 - val_acc: 0.9919\n",
            "Epoch 11/12\n",
            "60000/60000 [==============================] - 178s 3ms/step - loss: 0.0619 - acc: 0.9845 - val_loss: 0.0267 - val_acc: 0.9930\n",
            "Epoch 12/12\n",
            "60000/60000 [==============================] - 176s 3ms/step - loss: 0.0581 - acc: 0.9850 - val_loss: 0.0250 - val_acc: 0.9941\n",
            "Test loss: 0.025024591614387873\n",
            "Test accuracy: 0.9941\n"
          ],
          "name": "stdout"
        }
      ]
    },
    {
      "cell_type": "code",
      "metadata": {
        "id": "YBAa7mKlSJ-Y",
        "colab_type": "code",
        "colab": {
          "base_uri": "https://localhost:8080/",
          "height": 283
        },
        "outputId": "478ce7d6-0f46-4c71-e788-ff554bfb194c"
      },
      "source": [
        "%matplotlib inline\n",
        "fig,ax = plt.subplots(1,1)\n",
        "ax.set_xlabel('epoch') ; ax.set_ylabel('Categorical Crossentropy Loss')\n",
        "# list of epoch numbers\n",
        "x = list(range(1,epochs+1))\n",
        "# print(history.history.keys())\n",
        "# dict_keys(['val_loss', 'val_acc', 'loss', 'acc'])\n",
        "# history = model_drop.fit(X_train, Y_train, batch_size=batch_size, epochs=nb_epoch, verbose=1, validation_data=(X_test, Y_test))\n",
        "# we will get val_loss and val_acc only when you pass the paramter validation_data\n",
        "# val_loss : validation loss\n",
        "# val_acc : validation accuracy\n",
        "# loss : training loss\n",
        "# acc : train accuracy\n",
        "# for each key in histrory.histrory we will have a list of length equal to number of epochs\n",
        "vy = history2.history['val_loss']\n",
        "ty = history2.history['loss']\n",
        "plt_dynamic(x, vy, ty, ax)"
      ],
      "execution_count": 24,
      "outputs": [
        {
          "output_type": "display_data",
          "data": {
            "image/png": "[encoded data removed]",
            "text/plain": [
              "<Figure size 432x288 with 1 Axes>"
            ]
          },
          "metadata": {
            "tags": []
          }
        }
      ]
    },
    {
      "cell_type": "markdown",
      "metadata": {
        "id": "DD-DlbHmjV_Q",
        "colab_type": "text"
      },
      "source": [
        "<h2>7 Hidden layer with few Convolution layers having 5x5 kernel Maxpooling,batch normalization and dropout"
      ]
    },
    {
      "cell_type": "code",
      "metadata": {
        "id": "YHXQXvf0LdMO",
        "colab_type": "code",
        "colab": {
          "base_uri": "https://localhost:8080/",
          "height": 1000
        },
        "outputId": "a2553b76-c73d-48fb-f8ac-cc730f6a7552"
      },
      "source": [
        "from keras.layers import Dense, Dropout, Flatten, Activation, BatchNormalization\n",
        "model3 = Sequential()\n",
        "model3.add(Conv2D(32, kernel_size=5,input_shape=(28, 28, 1), activation = 'relu',padding='same'))\n",
        "model3.add(Conv2D(32, kernel_size=5, activation = 'relu',padding='same'))\n",
        "model3.add(MaxPooling2D(2,2))\n",
        "model3.add(BatchNormalization())\n",
        "model3.add(Dropout(0.4))\n",
        "model3.add(Conv2D(64, kernel_size=5,activation = 'relu',padding='same'))\n",
        "model3.add(Conv2D(64, kernel_size=5,activation = 'relu',padding='same'))\n",
        "model3.add(MaxPooling2D(2,2))\n",
        "model3.add(BatchNormalization())\n",
        "model3.add(Dropout(0.4))\n",
        "model3.add(Conv2D(64, kernel_size=3, activation = 'relu',padding='same'))\n",
        "model3.add(BatchNormalization())\n",
        "model3.add(Conv2D(64, kernel_size=5,activation = 'relu',padding='same'))\n",
        "model3.add(Conv2D(64, kernel_size=5,activation = 'relu',padding='same'))\n",
        "model3.add(MaxPooling2D(2,2))\n",
        "model3.add(BatchNormalization())\n",
        "model3.add(Dropout(0.4))\n",
        "model3.add(Flatten())\n",
        "model3.add(Dense(256, activation = \"relu\"))\n",
        "model3.add(Dropout(0.4))\n",
        "model3.add(Dense(128, activation = \"relu\"))\n",
        "model3.add(Dropout(0.4))\n",
        "model3.add(Dense(10,activation = \"softmax\"))\n",
        "model3.compile(loss=keras.losses.categorical_crossentropy,optimizer=keras.optimizers.Adadelta(),metrics=['accuracy'])\n",
        "history3=model3.fit(x_train, y_train,batch_size=batch_size,epochs=epochs, verbose=1, validation_data=(x_test, y_test))\n"
      ],
      "execution_count": 2,
      "outputs": [
        {
          "output_type": "stream",
          "text": [
            "WARNING:tensorflow:From /usr/local/lib/python3.6/dist-packages/keras/backend/tensorflow_backend.py:66: The name tf.get_default_graph is deprecated. Please use tf.compat.v1.get_default_graph instead.\n",
            "\n",
            "WARNING:tensorflow:From /usr/local/lib/python3.6/dist-packages/keras/backend/tensorflow_backend.py:541: The name tf.placeholder is deprecated. Please use tf.compat.v1.placeholder instead.\n",
            "\n",
            "WARNING:tensorflow:From /usr/local/lib/python3.6/dist-packages/keras/backend/tensorflow_backend.py:4432: The name tf.random_uniform is deprecated. Please use tf.random.uniform instead.\n",
            "\n",
            "WARNING:tensorflow:From /usr/local/lib/python3.6/dist-packages/keras/backend/tensorflow_backend.py:4267: The name tf.nn.max_pool is deprecated. Please use tf.nn.max_pool2d instead.\n",
            "\n",
            "WARNING:tensorflow:From /usr/local/lib/python3.6/dist-packages/keras/backend/tensorflow_backend.py:190: The name tf.get_default_session is deprecated. Please use tf.compat.v1.get_default_session instead.\n",
            "\n",
            "WARNING:tensorflow:From /usr/local/lib/python3.6/dist-packages/keras/backend/tensorflow_backend.py:197: The name tf.ConfigProto is deprecated. Please use tf.compat.v1.ConfigProto instead.\n",
            "\n",
            "WARNING:tensorflow:From /usr/local/lib/python3.6/dist-packages/keras/backend/tensorflow_backend.py:2041: The name tf.nn.fused_batch_norm is deprecated. Please use tf.compat.v1.nn.fused_batch_norm instead.\n",
            "\n",
            "WARNING:tensorflow:From /usr/local/lib/python3.6/dist-packages/keras/backend/tensorflow_backend.py:3733: calling dropout (from tensorflow.python.ops.nn_ops) with keep_prob is deprecated and will be removed in a future version.\n",
            "Instructions for updating:\n",
            "Please use `rate` instead of `keep_prob`. Rate should be set to `rate = 1 - keep_prob`.\n",
            "WARNING:tensorflow:From /usr/local/lib/python3.6/dist-packages/keras/optimizers.py:793: The name tf.train.Optimizer is deprecated. Please use tf.compat.v1.train.Optimizer instead.\n",
            "\n",
            "WARNING:tensorflow:From /usr/local/lib/python3.6/dist-packages/tensorflow/python/ops/math_grad.py:1250: add_dispatch_support.<locals>.wrapper (from tensorflow.python.ops.array_ops) is deprecated and will be removed in a future version.\n",
            "Instructions for updating:\n",
            "Use tf.where in 2.0, which has the same broadcast rule as np.where\n",
            "Train on 60000 samples, validate on 10000 samples\n",
            "Epoch 1/12\n",
            "60000/60000 [==============================] - 753s 13ms/step - loss: 0.3855 - acc: 0.8812 - val_loss: 0.1245 - val_acc: 0.9727\n",
            "Epoch 2/12\n",
            "60000/60000 [==============================] - 753s 13ms/step - loss: 0.0928 - acc: 0.9753 - val_loss: 0.0381 - val_acc: 0.9909\n",
            "Epoch 3/12\n",
            "60000/60000 [==============================] - 749s 12ms/step - loss: 0.0682 - acc: 0.9823 - val_loss: 0.0392 - val_acc: 0.9906\n",
            "Epoch 4/12\n",
            "60000/60000 [==============================] - 753s 13ms/step - loss: 0.0550 - acc: 0.9859 - val_loss: 0.0270 - val_acc: 0.9927\n",
            "Epoch 5/12\n",
            "60000/60000 [==============================] - 757s 13ms/step - loss: 0.0474 - acc: 0.9872 - val_loss: 0.0272 - val_acc: 0.9930\n",
            "Epoch 6/12\n",
            "60000/60000 [==============================] - 754s 13ms/step - loss: 0.0433 - acc: 0.9888 - val_loss: 0.0307 - val_acc: 0.9925\n",
            "Epoch 7/12\n",
            "60000/60000 [==============================] - 748s 12ms/step - loss: 0.0393 - acc: 0.9900 - val_loss: 0.0252 - val_acc: 0.9933\n",
            "Epoch 8/12\n",
            "60000/60000 [==============================] - 748s 12ms/step - loss: 0.0361 - acc: 0.9907 - val_loss: 0.0361 - val_acc: 0.9918\n",
            "Epoch 9/12\n",
            "60000/60000 [==============================] - 752s 13ms/step - loss: 0.0338 - acc: 0.9912 - val_loss: 0.0214 - val_acc: 0.9945\n",
            "Epoch 10/12\n",
            "60000/60000 [==============================] - 750s 13ms/step - loss: 0.0315 - acc: 0.9923 - val_loss: 0.0257 - val_acc: 0.9936\n",
            "Epoch 11/12\n",
            "60000/60000 [==============================] - 750s 12ms/step - loss: 0.0310 - acc: 0.9922 - val_loss: 0.0359 - val_acc: 0.9920\n",
            "Epoch 12/12\n",
            "60000/60000 [==============================] - 751s 13ms/step - loss: 0.0280 - acc: 0.9929 - val_loss: 0.0267 - val_acc: 0.9940\n"
          ],
          "name": "stdout"
        }
      ]
    },
    {
      "cell_type": "code",
      "metadata": {
        "id": "8d6VX3bpj9iu",
        "colab_type": "code",
        "colab": {
          "base_uri": "https://localhost:8080/",
          "height": 351
        },
        "outputId": "8a0cd56b-151b-4fad-be29-57f71d102a60"
      },
      "source": [
        "%matplotlib inline\n",
        "score3 = model3.evaluate(x_test,y_test, verbose=0)\n",
        "print('Test loss:', score3[0])\n",
        "print('Test accuracy:',score3[1])\n",
        "score5 = model3.evaluate(x_test,y_test,verbose=0)\n",
        "print('Test loss:', score3[0])\n",
        "print('Test accuracy:',score3[1])\n",
        "fig,ax = plt.subplots(1,1)\n",
        "ax.set_xlabel('epoch') ; ax.set_ylabel('Categorical Crossentropy Loss')\n",
        "# list of epoch numbers\n",
        "x = list(range(1,epochs+1))\n",
        "# print(history.history.keys())\n",
        "# dict_keys(['val_loss', 'val_acc', 'loss', 'acc'])\n",
        "# history = model_drop.fit(X_train, Y_train, batch_size=batch_size, epochs=nb_epoch, verbose=1, validation_data=(X_test, Y_test))\n",
        "# we will get val_loss and val_acc only when you pass the paramter validation_data\n",
        "# val_loss : validation loss\n",
        "# val_acc : validation accuracy\n",
        "# loss : training loss\n",
        "# acc : train accuracy\n",
        "# for each key in histrory.histrory we will have a list of length equal to number of epochs\n",
        "vy = history3.history['val_loss']\n",
        "ty = history3.history['loss']\n",
        "plt_dynamic(x, vy, ty, ax)"
      ],
      "execution_count": 3,
      "outputs": [
        {
          "output_type": "stream",
          "text": [
            "Test loss: 0.026654037279491352\n",
            "Test accuracy: 0.994\n",
            "Test loss: 0.026654037279491352\n",
            "Test accuracy: 0.994\n"
          ],
          "name": "stdout"
        },
        {
          "output_type": "display_data",
          "data": {
            "image/png": "[encoded data removed]",
            "text/plain": [
              "<Figure size 432x288 with 1 Axes>"
            ]
          },
          "metadata": {
            "tags": []
          }
        }
      ]
    },
    {
      "cell_type": "markdown",
      "metadata": {
        "id": "SZxh1CDjhTj0",
        "colab_type": "text"
      },
      "source": [
        "<h1> 3x3 kernel and 3 layered CNN using SGD"
      ]
    },
    {
      "cell_type": "code",
      "metadata": {
        "id": "AFfS3qDkgij7",
        "colab_type": "code",
        "colab": {
          "base_uri": "https://localhost:8080/",
          "height": 1000
        },
        "outputId": "8ad826ee-c401-4dbe-efe0-2ab0ac2d96f0"
      },
      "source": [
        "model4 = Sequential()\n",
        "model4.add(Conv2D(16, kernel_size=(3, 3),activation='relu',input_shape=input_shape))   \n",
        "model4.add(MaxPooling2D(pool_size=(2, 2)))\n",
        "model4.add(Dropout(0.5))\n",
        "model4.add(Conv2D(32, kernel_size=(3, 3),activation='relu',input_shape=input_shape))   \n",
        "model4.add(MaxPooling2D(pool_size=(2, 2)))\n",
        "model4.add(Dropout(0.5))\n",
        "model4.add(Conv2D(64,kernel_size=(3, 3), activation='relu'))\n",
        "model4.add(MaxPooling2D(pool_size=(2, 2)))\n",
        "model4.add(Dropout(0.5))\n",
        "model4.add(Flatten())\n",
        "model4.add(Dense(128, activation='relu'))\n",
        "model4.add(Dropout(0.5))\n",
        "model4.add(Dense(num_classes, activation='softmax'))\n",
        "model4.compile(loss=keras.losses.categorical_crossentropy,optimizer=keras.optimizers.SGD(),metrics=['accuracy'])\n",
        "history4=model4.fit(x_train, y_train,batch_size=batch_size,epochs=epochs, verbose=1, validation_data=(x_test, y_test))\n",
        "score4 = model4.evaluate(x_test,y_test, verbose=0)\n",
        "print('Test loss:', score4[0])\n",
        "print('Test accuracy:',score4[1])\n"
      ],
      "execution_count": 16,
      "outputs": [
        {
          "output_type": "stream",
          "text": [
            "Train on 60000 samples, validate on 10000 samples\n",
            "Epoch 1/12\n",
            "60000/60000 [==============================] - 35s 579us/step - loss: 2.3039 - acc: 0.1208 - val_loss: 2.2850 - val_acc: 0.1296\n",
            "Epoch 2/12\n",
            "60000/60000 [==============================] - 33s 553us/step - loss: 2.2594 - acc: 0.1727 - val_loss: 2.2200 - val_acc: 0.2691\n",
            "Epoch 3/12\n",
            "60000/60000 [==============================] - 33s 552us/step - loss: 2.1491 - acc: 0.2389 - val_loss: 2.0214 - val_acc: 0.4171\n",
            "Epoch 4/12\n",
            "60000/60000 [==============================] - 33s 553us/step - loss: 1.9716 - acc: 0.2998 - val_loss: 1.7714 - val_acc: 0.5206\n",
            "Epoch 5/12\n",
            "60000/60000 [==============================] - 33s 555us/step - loss: 1.7928 - acc: 0.3650 - val_loss: 1.5259 - val_acc: 0.6355\n",
            "Epoch 6/12\n",
            "60000/60000 [==============================] - 33s 557us/step - loss: 1.6274 - acc: 0.4280 - val_loss: 1.2840 - val_acc: 0.7025\n",
            "Epoch 7/12\n",
            "60000/60000 [==============================] - 34s 563us/step - loss: 1.4735 - acc: 0.4881 - val_loss: 1.0913 - val_acc: 0.7423\n",
            "Epoch 8/12\n",
            "60000/60000 [==============================] - 33s 555us/step - loss: 1.3420 - acc: 0.5417 - val_loss: 0.9328 - val_acc: 0.7724\n",
            "Epoch 9/12\n",
            "60000/60000 [==============================] - 33s 554us/step - loss: 1.2349 - acc: 0.5830 - val_loss: 0.8125 - val_acc: 0.8044\n",
            "Epoch 10/12\n",
            "60000/60000 [==============================] - 33s 554us/step - loss: 1.1442 - acc: 0.6166 - val_loss: 0.7175 - val_acc: 0.8359\n",
            "Epoch 11/12\n",
            "60000/60000 [==============================] - 33s 556us/step - loss: 1.0689 - acc: 0.6431 - val_loss: 0.6343 - val_acc: 0.8544\n",
            "Epoch 12/12\n",
            "60000/60000 [==============================] - 33s 554us/step - loss: 1.0037 - acc: 0.6698 - val_loss: 0.5707 - val_acc: 0.8720\n",
            "Test loss: 0.5706797729969024\n",
            "Test accuracy: 0.872\n"
          ],
          "name": "stdout"
        }
      ]
    },
    {
      "cell_type": "code",
      "metadata": {
        "id": "8max3bsLi2Mo",
        "colab_type": "code",
        "colab": {
          "base_uri": "https://localhost:8080/",
          "height": 283
        },
        "outputId": "6fae2009-ea5e-4c4f-fe5f-55d3a29a52ce"
      },
      "source": [
        "fig,ax = plt.subplots(1,1)\n",
        "ax.set_xlabel('epoch') ; ax.set_ylabel('Categorical Crossentropy Loss')\n",
        "\n",
        "# list of epoch numbers\n",
        "x = list(range(1,epochs+1))\n",
        "\n",
        "# print(history.history.keys())\n",
        "# dict_keys(['val_loss', 'val_acc', 'loss', 'acc'])\n",
        "# history = model_drop.fit(X_train, Y_train, batch_size=batch_size, epochs=nb_epoch, verbose=1, validation_data=(X_test, Y_test))\n",
        "\n",
        "# we will get val_loss and val_acc only when you pass the paramter validation_data\n",
        "# val_loss : validation loss\n",
        "# val_acc : validation accuracy\n",
        "\n",
        "# loss : training loss\n",
        "# acc : train accuracy\n",
        "# for each key in histrory.histrory we will have a list of length equal to number of epochs\n",
        "\n",
        "vy = history4.history['val_loss']\n",
        "ty = history4.history['loss']\n",
        "plt_dynamic(x, vy, ty, ax)"
      ],
      "execution_count": 18,
      "outputs": [
        {
          "output_type": "display_data",
          "data": {
            "image/png": "[encoded data removed]",
            "text/plain": [
              "<Figure size 432x288 with 1 Axes>"
            ]
          },
          "metadata": {
            "tags": []
          }
        }
      ]
    },
    {
      "cell_type": "markdown",
      "metadata": {
        "id": "pKCbzzJnSnKw",
        "colab_type": "text"
      },
      "source": [
        "<h2> 3x3 kernel and 3 layered CNN using SGD with sigmoid activation"
      ]
    },
    {
      "cell_type": "code",
      "metadata": {
        "id": "ElkAa9VLOi7p",
        "colab_type": "code",
        "colab": {
          "base_uri": "https://localhost:8080/",
          "height": 1000
        },
        "outputId": "cc34d28c-4135-443d-f892-1408b91198a9"
      },
      "source": [
        "model5 = Sequential()\n",
        "model5.add(Conv2D(16, kernel_size=(3, 3),activation='sigmoid',input_shape=input_shape))   \n",
        "model5.add(MaxPooling2D(pool_size=(2, 2)))\n",
        "model5.add(Dropout(0.5))\n",
        "model5.add(Conv2D(32, kernel_size=(3, 3),activation='sigmoid',input_shape=input_shape))   \n",
        "model5.add(MaxPooling2D(pool_size=(2, 2)))\n",
        "model5.add(Dropout(0.5))\n",
        "model5.add(Conv2D(64,kernel_size=(3, 3), activation='sigmoid'))\n",
        "model5.add(MaxPooling2D(pool_size=(2,2)))\n",
        "model5.add(Dropout(0.5))\n",
        "model5.add(Flatten())\n",
        "model5.add(Dense(128, activation='sigmoid'))\n",
        "model5.add(Dropout(0.5))\n",
        "model5.add(Dense(num_classes, activation='softmax'))\n",
        "model5.compile(loss=keras.losses.categorical_crossentropy,optimizer=keras.optimizers.SGD(),metrics=['accuracy'])\n",
        "history5=model5.fit(x_train, y_train,batch_size=batch_size,epochs=epochs, verbose=1, validation_data=(x_test, y_test))\n"
      ],
      "execution_count": 10,
      "outputs": [
        {
          "output_type": "stream",
          "text": [
            "Train on 60000 samples, validate on 10000 samples\n",
            "Epoch 1/12\n",
            "60000/60000 [==============================] - 35s 576us/step - loss: 2.4994 - acc: 0.0986 - val_loss: 2.3013 - val_acc: 0.1135\n",
            "Epoch 2/12\n",
            "60000/60000 [==============================] - 34s 559us/step - loss: 2.4312 - acc: 0.1008 - val_loss: 2.3013 - val_acc: 0.1135\n",
            "Epoch 3/12\n",
            "60000/60000 [==============================] - 34s 563us/step - loss: 2.3915 - acc: 0.1032 - val_loss: 2.3012 - val_acc: 0.1135\n",
            "Epoch 4/12\n",
            "60000/60000 [==============================] - 34s 569us/step - loss: 2.3706 - acc: 0.1011 - val_loss: 2.3012 - val_acc: 0.1135\n",
            "Epoch 5/12\n",
            "60000/60000 [==============================] - 34s 573us/step - loss: 2.3555 - acc: 0.1017 - val_loss: 2.3013 - val_acc: 0.1135\n",
            "Epoch 6/12\n",
            "60000/60000 [==============================] - 35s 576us/step - loss: 2.3454 - acc: 0.1017 - val_loss: 2.3012 - val_acc: 0.1135\n",
            "Epoch 7/12\n",
            "60000/60000 [==============================] - 34s 561us/step - loss: 2.3385 - acc: 0.0988 - val_loss: 2.3015 - val_acc: 0.1135\n",
            "Epoch 8/12\n",
            "60000/60000 [==============================] - 34s 572us/step - loss: 2.3323 - acc: 0.1001 - val_loss: 2.3013 - val_acc: 0.1135\n",
            "Epoch 9/12\n",
            "60000/60000 [==============================] - 35s 582us/step - loss: 2.3246 - acc: 0.1031 - val_loss: 2.3017 - val_acc: 0.1135\n",
            "Epoch 10/12\n",
            "60000/60000 [==============================] - 35s 583us/step - loss: 2.3212 - acc: 0.1002 - val_loss: 2.3014 - val_acc: 0.1135\n",
            "Epoch 11/12\n",
            "60000/60000 [==============================] - 34s 575us/step - loss: 2.3194 - acc: 0.1026 - val_loss: 2.3010 - val_acc: 0.1135\n",
            "Epoch 12/12\n",
            "60000/60000 [==============================] - 34s 566us/step - loss: 2.3163 - acc: 0.1022 - val_loss: 2.3017 - val_acc: 0.1135\n"
          ],
          "name": "stdout"
        }
      ]
    },
    {
      "cell_type": "code",
      "metadata": {
        "id": "hK1vm4beSVj5",
        "colab_type": "code",
        "colab": {
          "base_uri": "https://localhost:8080/",
          "height": 318
        },
        "outputId": "25317314-ca34-45d9-b363-ea845792df53"
      },
      "source": [
        "%matplotlib inline\n",
        "score5 = model5.evaluate(x_test,y_test,verbose=0)\n",
        "print('Test loss:', score5[0])\n",
        "print('Test accuracy:',score5[1])\n",
        "fig,ax = plt.subplots(1,1)\n",
        "ax.set_xlabel('epoch') ; ax.set_ylabel('Categorical Crossentropy Loss')\n",
        "\n",
        "# list of epoch numbers\n",
        "x = list(range(1,epochs+1))\n",
        "\n",
        "# print(history.history.keys())\n",
        "# dict_keys(['val_loss', 'val_acc', 'loss', 'acc'])\n",
        "# history = model_drop.fit(X_train, Y_train, batch_size=batch_size, epochs=nb_epoch, verbose=1, validation_data=(X_test, Y_test))\n",
        "\n",
        "# we will get val_loss and val_acc only when you pass the paramter validation_data\n",
        "# val_loss : validation loss\n",
        "# val_acc : validation accuracy\n",
        "\n",
        "# loss : training loss\n",
        "# acc : train accuracy\n",
        "# for each key in histrory.histrory we will have a list of length equal to number of epochs\n",
        "\n",
        "vy = history5.history['val_loss']\n",
        "ty = history5.history['loss']\n",
        "plt_dynamic(x, vy, ty, ax)"
      ],
      "execution_count": 11,
      "outputs": [
        {
          "output_type": "stream",
          "text": [
            "Test loss: 2.3016598129272463\n",
            "Test accuracy: 0.1135\n"
          ],
          "name": "stdout"
        },
        {
          "output_type": "display_data",
          "data": {
            "image/png": "[encoded data removed]",
            "text/plain": [
              "<Figure size 432x288 with 1 Axes>"
            ]
          },
          "metadata": {
            "tags": []
          }
        }
      ]
    },
    {
      "cell_type": "markdown",
      "metadata": {
        "id": "mPJxVxkBdMUF",
        "colab_type": "text"
      },
      "source": [
        "<h2>CNN using 3x3 kernel matrix with tanh activation function"
      ]
    },
    {
      "cell_type": "code",
      "metadata": {
        "id": "S7xvvov5ZVAv",
        "colab_type": "code",
        "colab": {
          "base_uri": "https://localhost:8080/",
          "height": 1000
        },
        "outputId": "34c999b9-92b9-444a-ca18-77bf60806598"
      },
      "source": [
        "model6 = Sequential()\n",
        "model6.add(Conv2D(16, kernel_size=(3, 3),activation='tanh',input_shape=input_shape))   \n",
        "model6.add(MaxPooling2D(pool_size=(2, 2)))\n",
        "model6.add(Dropout(0.4))\n",
        "model6.add(Conv2D(32, kernel_size=(3, 3),activation='tanh',input_shape=input_shape))   \n",
        "model6.add(MaxPooling2D(pool_size=(2, 2)))\n",
        "model6.add(Dropout(0.4))\n",
        "model6.add(Conv2D(64,kernel_size=(3, 3), activation='tanh'))\n",
        "model6.add(MaxPooling2D(pool_size=(2, 2)))\n",
        "model6.add(Dropout(0.4))\n",
        "model6.add(Flatten())\n",
        "model6.add(Dense(128, activation='tanh'))\n",
        "model6.add(Dropout(0.4))\n",
        "model6.add(Dense(num_classes,activation='softmax'))\n",
        "model6.compile(loss=keras.losses.categorical_crossentropy,optimizer=keras.optimizers.SGD(),metrics=['accuracy'])\n",
        "history6=model6.fit(x_train, y_train,batch_size=batch_size,epochs=epochs, verbose=1, validation_data=(x_test, y_test))"
      ],
      "execution_count": 12,
      "outputs": [
        {
          "output_type": "stream",
          "text": [
            "Train on 60000 samples, validate on 10000 samples\n",
            "Epoch 1/12\n",
            "60000/60000 [==============================] - 35s 585us/step - loss: 2.2758 - acc: 0.1549 - val_loss: 2.1005 - val_acc: 0.4533\n",
            "Epoch 2/12\n",
            "60000/60000 [==============================] - 34s 571us/step - loss: 1.8721 - acc: 0.3560 - val_loss: 1.2667 - val_acc: 0.6533\n",
            "Epoch 3/12\n",
            "60000/60000 [==============================] - 34s 564us/step - loss: 1.3745 - acc: 0.5362 - val_loss: 0.7960 - val_acc: 0.7830\n",
            "Epoch 4/12\n",
            "60000/60000 [==============================] - 35s 576us/step - loss: 1.1018 - acc: 0.6370 - val_loss: 0.6015 - val_acc: 0.8308\n",
            "Epoch 5/12\n",
            "60000/60000 [==============================] - 34s 571us/step - loss: 0.9419 - acc: 0.6955 - val_loss: 0.4868 - val_acc: 0.8626\n",
            "Epoch 6/12\n",
            "60000/60000 [==============================] - 34s 564us/step - loss: 0.8325 - acc: 0.7336 - val_loss: 0.4111 - val_acc: 0.8833\n",
            "Epoch 7/12\n",
            "60000/60000 [==============================] - 34s 567us/step - loss: 0.7535 - acc: 0.7624 - val_loss: 0.3624 - val_acc: 0.8937\n",
            "Epoch 8/12\n",
            "60000/60000 [==============================] - 34s 567us/step - loss: 0.6911 - acc: 0.7835 - val_loss: 0.3153 - val_acc: 0.9074\n",
            "Epoch 9/12\n",
            "60000/60000 [==============================] - 33s 555us/step - loss: 0.6381 - acc: 0.7980 - val_loss: 0.2781 - val_acc: 0.9166\n",
            "Epoch 10/12\n",
            "60000/60000 [==============================] - 34s 574us/step - loss: 0.5890 - acc: 0.8174 - val_loss: 0.2521 - val_acc: 0.9245\n",
            "Epoch 11/12\n",
            "60000/60000 [==============================] - 35s 584us/step - loss: 0.5601 - acc: 0.8257 - val_loss: 0.2353 - val_acc: 0.9302\n",
            "Epoch 12/12\n",
            "60000/60000 [==============================] - 35s 582us/step - loss: 0.5360 - acc: 0.8324 - val_loss: 0.2194 - val_acc: 0.9343\n"
          ],
          "name": "stdout"
        }
      ]
    },
    {
      "cell_type": "code",
      "metadata": {
        "id": "hZiSkOioYgfu",
        "colab_type": "code",
        "colab": {
          "base_uri": "https://localhost:8080/",
          "height": 318
        },
        "outputId": "cd686249-d1c2-43da-d614-ec507941a71e"
      },
      "source": [
        "%matplotlib inline\n",
        "score5 = model5.evaluate(x_test,y_test,verbose=0)\n",
        "print('Test loss:', score5[0])\n",
        "print('Test accuracy:',score5[1])\n",
        "fig,ax = plt.subplots(1,1)\n",
        "ax.set_xlabel('epoch') ; ax.set_ylabel('Categorical Crossentropy Loss')\n",
        "# list of epoch numbers\n",
        "x = list(range(1,epochs+1))\n",
        "# print(history.history.keys())\n",
        "# dict_keys(['val_loss', 'val_acc', 'loss', 'acc'])\n",
        "# history = model_drop.fit(X_train, Y_train, batch_size=batch_size, epochs=nb_epoch, verbose=1, validation_data=(X_test, Y_test))\n",
        "\n",
        "# we will get val_loss and val_acc only when you pass the paramter validation_data\n",
        "# val_loss : validation loss\n",
        "# val_acc : validation accuracy\n",
        "# loss : training loss\n",
        "# acc : train accuracy\n",
        "# for each key in histrory.histrory we will have a list of length equal to number of epochs\n",
        "\n",
        "vy = history6.history['val_loss']\n",
        "ty = history6.history['loss']\n",
        "plt_dynamic(x, vy, ty, ax)"
      ],
      "execution_count": 13,
      "outputs": [
        {
          "output_type": "stream",
          "text": [
            "Test loss: 2.3016598129272463\n",
            "Test accuracy: 0.1135\n"
          ],
          "name": "stdout"
        },
        {
          "output_type": "display_data",
          "data": {
            "image/png": "[encoded data removed]",
            "text/plain": [
              "<Figure size 432x288 with 1 Axes>"
            ]
          },
          "metadata": {
            "tags": []
          }
        }
      ]
    },
    {
      "cell_type": "markdown",
      "metadata": {
        "id": "3jKcM_2HjcOb",
        "colab_type": "text"
      },
      "source": [
        "<h2>3x3 kernel and 3 layered CNN using adam with ReLu activation\n",
        "\n",
        "\n"
      ]
    },
    {
      "cell_type": "code",
      "metadata": {
        "id": "4QDgAFoigbGM",
        "colab_type": "code",
        "colab": {
          "base_uri": "https://localhost:8080/",
          "height": 1000
        },
        "outputId": "0077c2f0-a186-48e4-c26b-a8270b152b4a"
      },
      "source": [
        "model7 = Sequential()\n",
        "model7.add(Conv2D(16, kernel_size=(3, 3),activation='relu',input_shape=input_shape))   \n",
        "model7.add(MaxPooling2D(pool_size=(2, 2)))\n",
        "model7.add(Dropout(0.5))\n",
        "model7.add(Conv2D(32, kernel_size=(3, 3),activation='relu',input_shape=input_shape))   \n",
        "model7.add(MaxPooling2D(pool_size=(2, 2)))\n",
        "model7.add(Dropout(0.5))\n",
        "model7.add(Conv2D(64,kernel_size=(3, 3), activation='relu'))\n",
        "model7.add(MaxPooling2D(pool_size=(2, 2)))\n",
        "model7.add(Dropout(0.5))\n",
        "model7.add(Flatten())\n",
        "model7.add(Dense(128, activation='relu'))\n",
        "model7.add(Dropout(0.5))\n",
        "model7.add(Dense(num_classes, activation='softmax'))\n",
        "model7.compile(loss=keras.losses.categorical_crossentropy,optimizer=keras.optimizers.adam(),metrics=['accuracy'])\n",
        "history7=model7.fit(x_train, y_train,batch_size=batch_size,epochs=epochs, verbose=1, validation_data=(x_test, y_test))\n",
        "score7 = model7.evaluate(x_test,y_test,verbose=0)\n",
        "print('Test loss:', score7[0])\n",
        "print('Test accuracy:',score7[1])"
      ],
      "execution_count": 21,
      "outputs": [
        {
          "output_type": "stream",
          "text": [
            "Train on 60000 samples, validate on 10000 samples\n",
            "Epoch 1/12\n",
            "60000/60000 [==============================] - 36s 599us/step - loss: 1.3935 - acc: 0.5110 - val_loss: 0.3910 - val_acc: 0.9075\n",
            "Epoch 2/12\n",
            "60000/60000 [==============================] - 35s 578us/step - loss: 0.6644 - acc: 0.7954 - val_loss: 0.2165 - val_acc: 0.9438\n",
            "Epoch 3/12\n",
            "60000/60000 [==============================] - 35s 580us/step - loss: 0.5280 - acc: 0.8407 - val_loss: 0.1685 - val_acc: 0.9521\n",
            "Epoch 4/12\n",
            "60000/60000 [==============================] - 35s 583us/step - loss: 0.4550 - acc: 0.8631 - val_loss: 0.1437 - val_acc: 0.9585\n",
            "Epoch 5/12\n",
            "60000/60000 [==============================] - 34s 574us/step - loss: 0.4220 - acc: 0.8742 - val_loss: 0.1288 - val_acc: 0.9629\n",
            "Epoch 6/12\n",
            "60000/60000 [==============================] - 35s 579us/step - loss: 0.3945 - acc: 0.8829 - val_loss: 0.1206 - val_acc: 0.9659\n",
            "Epoch 7/12\n",
            "60000/60000 [==============================] - 35s 576us/step - loss: 0.3671 - acc: 0.8907 - val_loss: 0.1167 - val_acc: 0.9653\n",
            "Epoch 8/12\n",
            "60000/60000 [==============================] - 35s 575us/step - loss: 0.3530 - acc: 0.8944 - val_loss: 0.1152 - val_acc: 0.9677\n",
            "Epoch 9/12\n",
            "60000/60000 [==============================] - 34s 571us/step - loss: 0.3455 - acc: 0.8979 - val_loss: 0.1024 - val_acc: 0.9702\n",
            "Epoch 10/12\n",
            "60000/60000 [==============================] - 35s 581us/step - loss: 0.3339 - acc: 0.9009 - val_loss: 0.0970 - val_acc: 0.9709\n",
            "Epoch 11/12\n",
            "60000/60000 [==============================] - 35s 580us/step - loss: 0.3216 - acc: 0.9036 - val_loss: 0.0965 - val_acc: 0.9714\n",
            "Epoch 12/12\n",
            "60000/60000 [==============================] - 35s 580us/step - loss: 0.3189 - acc: 0.9065 - val_loss: 0.0938 - val_acc: 0.9714\n",
            "Test loss: 0.09384770478904247\n",
            "Test accuracy: 0.9714\n"
          ],
          "name": "stdout"
        }
      ]
    },
    {
      "cell_type": "code",
      "metadata": {
        "id": "5SQHyleejrC2",
        "colab_type": "code",
        "colab": {
          "base_uri": "https://localhost:8080/",
          "height": 318
        },
        "outputId": "65c4ce19-ea3c-4756-a5d5-4d1e0ae00c20"
      },
      "source": [
        "%matplotlib inline\n",
        "score7 = model7.evaluate(x_test,y_test,verbose=0)\n",
        "print('Test loss:', score7[0])\n",
        "print('Test accuracy:',score7[1])\n",
        "fig,ax = plt.subplots(1,1)\n",
        "ax.set_xlabel('epoch') ; ax.set_ylabel('Categorical Crossentropy Loss')\n",
        "# list of epoch numbers\n",
        "x = list(range(1,epochs+1))\n",
        "# print(history.history.keys())\n",
        "# dict_keys(['val_loss', 'val_acc', 'loss', 'acc'])\n",
        "# history = model_drop.fit(X_train, Y_train, batch_size=batch_size, epochs=nb_epoch, verbose=1, validation_data=(X_test, Y_test))\n",
        "# we will get val_loss and val_acc only when you pass the paramter validation_data\n",
        "# val_loss : validation loss\n",
        "# val_acc : validation accuracy\n",
        "# loss : training loss\n",
        "# acc : train accuracy\n",
        "# for each key in histrory.history we will have a list of length equal to number of epochs\n",
        "vy = history7.history['val_loss']\n",
        "ty = history7.history['loss']\n",
        "plt_dynamic(x, vy, ty, ax)"
      ],
      "execution_count": 22,
      "outputs": [
        {
          "output_type": "stream",
          "text": [
            "Test loss: 2.3016598129272463\n",
            "Test accuracy: 0.1135\n"
          ],
          "name": "stdout"
        },
        {
          "output_type": "display_data",
          "data": {
            "image/png": "[encoded data removed]",
            "text/plain": [
              "<Figure size 432x288 with 1 Axes>"
            ]
          },
          "metadata": {
            "tags": []
          }
        }
      ]
    },
    {
      "cell_type": "markdown",
      "metadata": {
        "id": "Zb63RGR9tzoC",
        "colab_type": "text"
      },
      "source": [
        "<h2> 3x3  + 3 layered + Adam + sigmoid + dropout"
      ]
    },
    {
      "cell_type": "code",
      "metadata": {
        "id": "m60gNOte-4qx",
        "colab_type": "code",
        "colab": {
          "base_uri": "https://localhost:8080/",
          "height": 1000
        },
        "outputId": "9426ec5d-72d4-4c4e-8235-91b85f868acc"
      },
      "source": [
        "model8 = Sequential()\n",
        "model8.add(Conv2D(16, kernel_size=(3, 3),activation='sigmoid',input_shape=input_shape))   \n",
        "model8.add(MaxPooling2D(pool_size=(2, 2)))\n",
        "model8.add(Dropout(0.5))\n",
        "model8.add(Conv2D(32, kernel_size=(3, 3),activation='sigmoid',input_shape=input_shape))   \n",
        "model8.add(MaxPooling2D(pool_size=(2, 2)))\n",
        "model8.add(Dropout(0.5))\n",
        "model8.add(Conv2D(64,kernel_size=(3, 3), activation='sigmoid'))\n",
        "model8.add(MaxPooling2D(pool_size=(2, 2)))\n",
        "model8.add(Dropout(0.5))\n",
        "model8.add(Flatten())\n",
        "model8.add(Dense(128, activation='sigmoid'))\n",
        "model8.add(Dropout(0.5))\n",
        "model8.add(Dense(num_classes, activation='softmax'))\n",
        "model8.compile(loss=keras.losses.categorical_crossentropy,optimizer=keras.optimizers.adam(),metrics=['accuracy'])\n",
        "history8=model8.fit(x_train, y_train,batch_size=batch_size,epochs=epochs, verbose=1, validation_data=(x_test, y_test))\n",
        "score8 = model8.evaluate(x_test,y_test,verbose=0)\n",
        "print('Test loss:', score8[0])\n",
        "print('Test accuracy:',score8[1])"
      ],
      "execution_count": 5,
      "outputs": [
        {
          "output_type": "stream",
          "text": [
            "Train on 60000 samples, validate on 10000 samples\n",
            "Epoch 1/12\n",
            "60000/60000 [==============================] - 30s 500us/step - loss: 2.3539 - acc: 0.1020 - val_loss: 2.3016 - val_acc: 0.1135\n",
            "Epoch 2/12\n",
            "60000/60000 [==============================] - 29s 486us/step - loss: 2.3058 - acc: 0.1068 - val_loss: 2.3014 - val_acc: 0.1135\n",
            "Epoch 3/12\n",
            "60000/60000 [==============================] - 29s 485us/step - loss: 2.3027 - acc: 0.1090 - val_loss: 2.3012 - val_acc: 0.1135\n",
            "Epoch 4/12\n",
            "60000/60000 [==============================] - 29s 488us/step - loss: 2.3023 - acc: 0.1112 - val_loss: 2.3013 - val_acc: 0.1135\n",
            "Epoch 5/12\n",
            "60000/60000 [==============================] - 29s 485us/step - loss: 2.3018 - acc: 0.1102 - val_loss: 2.3011 - val_acc: 0.1135\n",
            "Epoch 6/12\n",
            "60000/60000 [==============================] - 29s 484us/step - loss: 2.3018 - acc: 0.1116 - val_loss: 2.3012 - val_acc: 0.1135\n",
            "Epoch 7/12\n",
            "60000/60000 [==============================] - 29s 489us/step - loss: 2.3015 - acc: 0.1123 - val_loss: 2.3012 - val_acc: 0.1135\n",
            "Epoch 8/12\n",
            "60000/60000 [==============================] - 29s 485us/step - loss: 2.3016 - acc: 0.1119 - val_loss: 2.3011 - val_acc: 0.1135\n",
            "Epoch 9/12\n",
            "60000/60000 [==============================] - 29s 482us/step - loss: 2.3015 - acc: 0.1125 - val_loss: 2.3010 - val_acc: 0.1135\n",
            "Epoch 10/12\n",
            "60000/60000 [==============================] - 29s 484us/step - loss: 2.3014 - acc: 0.1124 - val_loss: 2.3010 - val_acc: 0.1135\n",
            "Epoch 11/12\n",
            "60000/60000 [==============================] - 29s 485us/step - loss: 2.3014 - acc: 0.1121 - val_loss: 2.3011 - val_acc: 0.1135\n",
            "Epoch 12/12\n",
            "60000/60000 [==============================] - 29s 481us/step - loss: 2.3014 - acc: 0.1120 - val_loss: 2.3010 - val_acc: 0.1135\n",
            "Test loss: 2.301026412200928\n",
            "Test accuracy: 0.1135\n"
          ],
          "name": "stdout"
        }
      ]
    },
    {
      "cell_type": "code",
      "metadata": {
        "id": "xCBgNXfu_fX4",
        "colab_type": "code",
        "colab": {
          "base_uri": "https://localhost:8080/",
          "height": 317
        },
        "outputId": "c77a49a9-e5b2-42e8-8241-cc075098d78b"
      },
      "source": [
        "%matplotlib inline\n",
        "score8 = model8.evaluate(x_test,y_test,verbose=0)\n",
        "print('Test loss:', score8[0])\n",
        "print('Test accuracy:',score8[1])\n",
        "fig,ax = plt.subplots(1,1)\n",
        "ax.set_xlabel('epoch') ; ax.set_ylabel('Categorical Crossentropy Loss')\n",
        "# list of epoch numbers\n",
        "x = list(range(1,epochs+1))\n",
        "# print(history.history.keys())\n",
        "# dict_keys(['val_loss', 'val_acc', 'loss', 'acc'])\n",
        "# history = model_drop.fit(X_train, Y_train, batch_size=batch_size, epochs=nb_epoch, verbose=1, validation_data=(X_test, Y_test))\n",
        "# we will get val_loss and val_acc only when you pass the paramter validation_data\n",
        "# val_loss : validation loss\n",
        "# val_acc : validation accuracy\n",
        "# loss : training loss\n",
        "# acc : train accuracy\n",
        "# for each key in histrory.histrory we will have a list of length equal to number of epochs\n",
        "vy = history8.history['val_loss']\n",
        "ty = history8.history['loss']\n",
        "plt_dynamic(x, vy, ty, ax)"
      ],
      "execution_count": 6,
      "outputs": [
        {
          "output_type": "stream",
          "text": [
            "Test loss: 2.301026412200928\n",
            "Test accuracy: 0.1135\n"
          ],
          "name": "stdout"
        },
        {
          "output_type": "display_data",
          "data": {
            "image/png": "[encoded data removed]",
            "text/plain": [
              "<Figure size 432x288 with 1 Axes>"
            ]
          },
          "metadata": {
            "tags": []
          }
        }
      ]
    },
    {
      "cell_type": "markdown",
      "metadata": {
        "id": "J1ZcKfNPvr7U",
        "colab_type": "text"
      },
      "source": [
        "<h2> 3x3  + 3 layered + Adam + tanh + dropout"
      ]
    },
    {
      "cell_type": "code",
      "metadata": {
        "id": "Gx8cZGWG__UT",
        "colab_type": "code",
        "colab": {
          "base_uri": "https://localhost:8080/",
          "height": 1000
        },
        "outputId": "fa325768-5c64-42b7-baf8-db82f588ca5c"
      },
      "source": [
        "model9 = Sequential()\n",
        "model9.add(Conv2D(16, kernel_size=(3, 3),activation='tanh',input_shape=input_shape))   \n",
        "model9.add(MaxPooling2D(pool_size=(2, 2)))\n",
        "model9.add(Dropout(0.5))\n",
        "model9.add(Conv2D(32, kernel_size=(3, 3),activation='tanh',input_shape=input_shape))   \n",
        "model9.add(MaxPooling2D(pool_size=(2, 2)))\n",
        "model9.add(Dropout(0.5))\n",
        "model9.add(Conv2D(64,kernel_size=(3, 3), activation='tanh'))\n",
        "model9.add(MaxPooling2D(pool_size=(2, 2)))\n",
        "model9.add(Dropout(0.5))\n",
        "model9.add(Flatten())\n",
        "model9.add(Dense(128, activation='tanh'))\n",
        "model9.add(Dropout(0.5))\n",
        "model9.add(Dense(num_classes, activation='softmax'))\n",
        "model9.compile(loss=keras.losses.categorical_crossentropy,optimizer=keras.optimizers.adam(),metrics=['accuracy'])\n",
        "history9=model9.fit(x_train, y_train,batch_size=batch_size,epochs=epochs, verbose=1, validation_data=(x_test, y_test))\n",
        "score9 = model9.evaluate(x_test,y_test,verbose=0)\n",
        "print('Test loss:', score9[0])\n",
        "print('Test accuracy:',score9[1])"
      ],
      "execution_count": 7,
      "outputs": [
        {
          "output_type": "stream",
          "text": [
            "Train on 60000 samples, validate on 10000 samples\n",
            "Epoch 1/12\n",
            "60000/60000 [==============================] - 30s 503us/step - loss: 2.3460 - acc: 0.0995 - val_loss: 2.3012 - val_acc: 0.1135\n",
            "Epoch 2/12\n",
            "60000/60000 [==============================] - 29s 489us/step - loss: 2.3045 - acc: 0.1053 - val_loss: 2.3013 - val_acc: 0.1135\n",
            "Epoch 3/12\n",
            "60000/60000 [==============================] - 29s 488us/step - loss: 2.3023 - acc: 0.1108 - val_loss: 2.3012 - val_acc: 0.1135\n",
            "Epoch 4/12\n",
            "60000/60000 [==============================] - 29s 486us/step - loss: 2.3020 - acc: 0.1116 - val_loss: 2.3013 - val_acc: 0.1135\n",
            "Epoch 5/12\n",
            "60000/60000 [==============================] - 29s 486us/step - loss: 2.3019 - acc: 0.1106 - val_loss: 2.3011 - val_acc: 0.1135\n",
            "Epoch 6/12\n",
            "60000/60000 [==============================] - 29s 483us/step - loss: 2.3016 - acc: 0.1115 - val_loss: 2.3011 - val_acc: 0.1135\n",
            "Epoch 7/12\n",
            "60000/60000 [==============================] - 29s 485us/step - loss: 2.3017 - acc: 0.1116 - val_loss: 2.3010 - val_acc: 0.1135\n",
            "Epoch 8/12\n",
            "60000/60000 [==============================] - 29s 481us/step - loss: 2.3014 - acc: 0.1121 - val_loss: 2.3010 - val_acc: 0.1135\n",
            "Epoch 9/12\n",
            "60000/60000 [==============================] - 29s 478us/step - loss: 2.3015 - acc: 0.1126 - val_loss: 2.3010 - val_acc: 0.1135\n",
            "Epoch 10/12\n",
            "60000/60000 [==============================] - 29s 478us/step - loss: 2.3014 - acc: 0.1122 - val_loss: 2.3010 - val_acc: 0.1135\n",
            "Epoch 11/12\n",
            "60000/60000 [==============================] - 29s 480us/step - loss: 2.3013 - acc: 0.1125 - val_loss: 2.3010 - val_acc: 0.1135\n",
            "Epoch 12/12\n",
            "60000/60000 [==============================] - 29s 482us/step - loss: 2.3013 - acc: 0.1123 - val_loss: 2.3010 - val_acc: 0.1135\n",
            "Test loss: 2.3010480514526366\n",
            "Test accuracy: 0.1135\n"
          ],
          "name": "stdout"
        }
      ]
    },
    {
      "cell_type": "code",
      "metadata": {
        "id": "-r3Kxg3-_1A8",
        "colab_type": "code",
        "colab": {
          "base_uri": "https://localhost:8080/",
          "height": 317
        },
        "outputId": "247ce6f0-de50-47fa-f23b-4c5d6eb34dd0"
      },
      "source": [
        "%matplotlib inline\n",
        "score9 = model9.evaluate(x_test,y_test,verbose=0)\n",
        "print('Test loss:', score9[0])\n",
        "print('Test accuracy:',score9[1])\n",
        "fig,ax = plt.subplots(1,1)\n",
        "ax.set_xlabel('epoch') ; ax.set_ylabel('Categorical Crossentropy Loss')\n",
        "# list of epoch numbers\n",
        "x = list(range(1,epochs+1))\n",
        "# print(history.history.keys())\n",
        "# dict_keys(['val_loss', 'val_acc', 'loss', 'acc'])\n",
        "# history = model_drop.fit(X_train, Y_train, batch_size=batch_size, epochs=nb_epoch, verbose=1, validation_data=(X_test, Y_test))\n",
        "\n",
        "# we will get val_loss and val_acc only when you pass the paramter validation_data\n",
        "# val_loss : validation loss\n",
        "# val_acc : validation accuracy\n",
        "# loss : training loss\n",
        "# acc : train accuracy\n",
        "# for each key in histrory.histrory we will have a list of length equal to number of epochs\n",
        "vy = history9.history['val_loss']\n",
        "ty = history9.history['loss']\n",
        "plt_dynamic(x, vy, ty, ax)"
      ],
      "execution_count": 8,
      "outputs": [
        {
          "output_type": "stream",
          "text": [
            "Test loss: 2.3010480514526366\n",
            "Test accuracy: 0.1135\n"
          ],
          "name": "stdout"
        },
        {
          "output_type": "display_data",
          "data": {
            "image/png": "[encoded data removed]",
            "text/plain": [
              "<Figure size 432x288 with 1 Axes>"
            ]
          },
          "metadata": {
            "tags": []
          }
        }
      ]
    },
    {
      "cell_type": "markdown",
      "metadata": {
        "id": "IUvtNUErCbo_",
        "colab_type": "text"
      },
      "source": [
        "<h2> 3x3 + 3 layered + Adagrad + sigmoid + dropout"
      ]
    },
    {
      "cell_type": "code",
      "metadata": {
        "id": "69Lz6h3UAoue",
        "colab_type": "code",
        "colab": {
          "base_uri": "https://localhost:8080/",
          "height": 1000
        },
        "outputId": "28f79a0c-e853-4503-e214-0ee374235b68"
      },
      "source": [
        "model10 = Sequential()\n",
        "model10.add(Conv2D(16, kernel_size=(3, 3),activation='sigmoid',input_shape=input_shape))   \n",
        "model10.add(MaxPooling2D(pool_size=(2, 2)))\n",
        "model10.add(Dropout(0.5))\n",
        "model10.add(Conv2D(32, kernel_size=(3, 3),activation='sigmoid',input_shape=input_shape))   \n",
        "model10.add(MaxPooling2D(pool_size=(2, 2)))\n",
        "model10.add(Dropout(0.5))\n",
        "model10.add(Conv2D(64,kernel_size=(3, 3), activation='sigmoid'))\n",
        "model10.add(MaxPooling2D(pool_size=(2, 2)))\n",
        "model10.add(Dropout(0.5))\n",
        "model10.add(Flatten())\n",
        "model10.add(Dense(128,activation='sigmoid'))\n",
        "model10.add(Dropout(0.5))\n",
        "model10.add(Dense(num_classes, activation='softmax'))\n",
        "model10.compile(loss=keras.losses.categorical_crossentropy,optimizer=keras.optimizers.Adagrad(),metrics=['accuracy'])\n",
        "history10=model10.fit(x_train, y_train,batch_size=batch_size,epochs=epochs, verbose=1, validation_data=(x_test, y_test))\n",
        "score10 = model10.evaluate(x_test,y_test,verbose=0)\n",
        "print('Test loss:', score10[0])\n",
        "print('Test accuracy:',score10[1])"
      ],
      "execution_count": 9,
      "outputs": [
        {
          "output_type": "stream",
          "text": [
            "Train on 60000 samples, validate on 10000 samples\n",
            "Epoch 1/12\n",
            "60000/60000 [==============================] - 30s 508us/step - loss: 2.3334 - acc: 0.1039 - val_loss: 2.3014 - val_acc: 0.1135\n",
            "Epoch 2/12\n",
            "60000/60000 [==============================] - 29s 491us/step - loss: 2.3067 - acc: 0.1052 - val_loss: 2.3013 - val_acc: 0.1135\n",
            "Epoch 3/12\n",
            "60000/60000 [==============================] - 29s 490us/step - loss: 2.3048 - acc: 0.1070 - val_loss: 2.3011 - val_acc: 0.1135\n",
            "Epoch 4/12\n",
            "60000/60000 [==============================] - 29s 485us/step - loss: 2.3038 - acc: 0.1068 - val_loss: 2.3011 - val_acc: 0.1135\n",
            "Epoch 5/12\n",
            "60000/60000 [==============================] - 29s 482us/step - loss: 2.3036 - acc: 0.1061 - val_loss: 2.3011 - val_acc: 0.1135\n",
            "Epoch 6/12\n",
            "60000/60000 [==============================] - 29s 484us/step - loss: 2.3029 - acc: 0.1091 - val_loss: 2.3011 - val_acc: 0.1135\n",
            "Epoch 7/12\n",
            "60000/60000 [==============================] - 29s 485us/step - loss: 2.3027 - acc: 0.1084 - val_loss: 2.3011 - val_acc: 0.1135\n",
            "Epoch 8/12\n",
            "60000/60000 [==============================] - 29s 483us/step - loss: 2.3025 - acc: 0.1085 - val_loss: 2.3011 - val_acc: 0.1135\n",
            "Epoch 9/12\n",
            "60000/60000 [==============================] - 29s 485us/step - loss: 2.3022 - acc: 0.1107 - val_loss: 2.3011 - val_acc: 0.1135\n",
            "Epoch 10/12\n",
            "60000/60000 [==============================] - 29s 487us/step - loss: 2.3022 - acc: 0.1104 - val_loss: 2.3011 - val_acc: 0.1135\n",
            "Epoch 11/12\n",
            "60000/60000 [==============================] - 29s 482us/step - loss: 2.3020 - acc: 0.1113 - val_loss: 2.3011 - val_acc: 0.1135\n",
            "Epoch 12/12\n",
            "60000/60000 [==============================] - 29s 487us/step - loss: 2.3020 - acc: 0.1114 - val_loss: 2.3011 - val_acc: 0.1135\n",
            "Test loss: 2.3010630470275877\n",
            "Test accuracy: 0.1135\n"
          ],
          "name": "stdout"
        }
      ]
    },
    {
      "cell_type": "code",
      "metadata": {
        "id": "nihA1mxs_2KJ",
        "colab_type": "code",
        "colab": {
          "base_uri": "https://localhost:8080/",
          "height": 318
        },
        "outputId": "745beed7-4644-47e7-857c-84584ed8cfd3"
      },
      "source": [
        "%matplotlib inline\n",
        "score10 = model10.evaluate(x_test,y_test,verbose=0)\n",
        "print('Test loss:', score10[0])\n",
        "print('Test accuracy:',score10[1])\n",
        "fig,ax = plt.subplots(1,1)\n",
        "ax.set_xlabel('epoch') ; ax.set_ylabel('Categorical Crossentropy Loss')\n",
        "# list of epoch numbers\n",
        "x = list(range(1,epochs+1))\n",
        "# print(history.history.keys())\n",
        "# dict_keys(['val_loss', 'val_acc', 'loss', 'acc'])\n",
        "# history = model_drop.fit(X_train, Y_train, batch_size=batch_size, epochs=nb_epoch, verbose=1, validation_data=(X_test, Y_test))\n",
        "# we will get val_loss and val_acc only when you pass the paramter validation_data\n",
        "# val_loss : validation loss\n",
        "# val_acc : validation accuracy\n",
        "# loss : training loss\n",
        "# acc : train accuracy\n",
        "# for each key in histrory.histrory we will have a list of length equal to number of epochs\n",
        "vy = history10.history['val_loss']\n",
        "ty = history10.history['loss']\n",
        "plt_dynamic(x, vy, ty, ax)"
      ],
      "execution_count": 10,
      "outputs": [
        {
          "output_type": "stream",
          "text": [
            "Test loss: 2.3010630470275877\n",
            "Test accuracy: 0.1135\n"
          ],
          "name": "stdout"
        },
        {
          "output_type": "display_data",
          "data": {
            "image/png": "[encoded data removed]",
            "text/plain": [
              "<Figure size 432x288 with 1 Axes>"
            ]
          },
          "metadata": {
            "tags": []
          }
        }
      ]
    },
    {
      "cell_type": "code",
      "metadata": {
        "id": "CZrFr5FjkvWD",
        "colab_type": "code",
        "colab": {
          "base_uri": "https://localhost:8080/",
          "height": 254
        },
        "outputId": "7fd00dca-7984-49fc-be8d-9981ab7dcaa0"
      },
      "source": [
        "from prettytable import PrettyTable\n",
        "x = PrettyTable()\n",
        "x.field_names = [\"Hiddden layers\", \"kernel size\",'activation function','optimizer',\"accuracy\"]\n",
        "x.add_row([3,'3*3','relu','adadelta',98.54])\n",
        "x.add_row([5,'5*5','relu','adadelta', 99.5])\n",
        "x.add_row([7,'5*5','relu','adadelta', 99.41])\n",
        "x.add_row([3,'3*3','sigmoid','SGD', 11.35])\n",
        "x.add_row([3,'3*3','tanh','SGD', 11.35])\n",
        "x.add_row([3,'3*3','relu','SGD', 87.2])\n",
        "x.add_row([3,'3*3','sigmoid','adam',11.35])\n",
        "x.add_row([3,'3*3','tanh','adam', 11.35])\n",
        "x.add_row([3,'3*3','relu','adam', 97.14])\n",
        "x.add_row([3,'3*3','sigmoid','adagrad',11.35])\n",
        "print(x)"
      ],
      "execution_count": 12,
      "outputs": [
        {
          "output_type": "stream",
          "text": [
            "+----------------+-------------+---------------------+-----------+----------+\n",
            "| Hiddden layers | kernel size | activation function | optimizer | accuracy |\n",
            "+----------------+-------------+---------------------+-----------+----------+\n",
            "|       3        |     3*3     |         relu        |  adadelta |  98.54   |\n",
            "|       5        |     5*5     |         relu        |  adadelta |   99.5   |\n",
            "|       7        |     5*5     |         relu        |  adadelta |  99.41   |\n",
            "|       3        |     3*3     |       sigmoid       |    SGD    |  11.35   |\n",
            "|       3        |     3*3     |         tanh        |    SGD    |  11.35   |\n",
            "|       3        |     3*3     |         relu        |    SGD    |   87.2   |\n",
            "|       3        |     3*3     |       sigmoid       |    adam   |  11.35   |\n",
            "|       3        |     3*3     |         tanh        |    adam   |  11.35   |\n",
            "|       3        |     3*3     |         relu        |    adam   |  97.14   |\n",
            "|       3        |     3*3     |       sigmoid       |  adagrad  |  11.35   |\n",
            "+----------------+-------------+---------------------+-----------+----------+\n"
          ],
          "name": "stdout"
        }
      ]
    },
    {
      "cell_type": "code",
      "metadata": {
        "id": "A6kshcXs7yB3",
        "colab_type": "code",
        "colab": {}
      },
      "source": [
        "Conclusion:\n",
        "  1. 5 layers with relu activation and adadelta optimizer has better the accuracy.\n",
        "  2.Relu works better than all other activation functions \n",
        "  3.Adadelta is best optimizer.\n",
        "  4.Sigmoid and tanh activation function have bad performances.\n",
        "  5.SGD  with relu performed betterthan SGD with other activation functions."
      ],
      "execution_count": 0,
      "outputs": []
    }
  ]
}